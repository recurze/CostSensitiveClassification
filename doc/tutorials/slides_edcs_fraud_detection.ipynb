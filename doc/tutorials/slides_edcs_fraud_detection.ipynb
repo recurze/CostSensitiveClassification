{
 "cells": [
  {
   "cell_type": "markdown",
   "metadata": {
    "slideshow": {
     "slide_type": "slide"
    }
   },
   "source": [
    "<h1 class=\"title\">Example-Dependent Cost-Sensitive Fraud Detection using CostCla</h1>"
   ]
  },
  {
   "cell_type": "markdown",
   "metadata": {
    "slideshow": {
     "slide_type": "-"
    }
   },
   "source": [
    "<center>\n",
    "\n",
    "<h2>Alejandro Correa Bahnsen, PhD</h2>\n",
    "<p>\n",
    "<h2>Data Scientist</h2>\n",
    "<p>\n",
    "<div>\n",
    "<img img class=\"logo\" src=\"https://raw.githubusercontent.com/albahnsen/CostSensitiveClassification/master/doc/tutorials/files/logo_easysol.jpg\" style=\"width: 400px;\">\n",
    "</div>\n",
    "\n",
    "<h3>PyCaribbean, Santo Domingo, Dominican Republic, Feb 2016</h3>\n",
    "</center>"
   ]
  },
  {
   "cell_type": "markdown",
   "metadata": {
    "slideshow": {
     "slide_type": "slide"
    }
   },
   "source": [
    "<h1 class=\"bigtitle\">About Me</h1>"
   ]
  },
  {
   "cell_type": "markdown",
   "metadata": {
    "slideshow": {
     "slide_type": "skip"
    }
   },
   "source": [
    "%%html\n",
    "<style>\n",
    "table,td,tr,th {border:none!important}\n",
    "</style>"
   ]
  },
  {
   "cell_type": "markdown",
   "metadata": {
    "slideshow": {
     "slide_type": "subslide"
    }
   },
   "source": [
    "### A brief bio:\n",
    "\n",
    "* PhD in **Machine Learning** at Luxembourg University\n",
    "* Data Scientist at Easy Solutions\n",
    "* Worked for +8 years as a data scientist at GE Money, Scotiabank and SIX Financial Services\n",
    "* Bachelor in Industrial Engineering and Master in Financial Engineering\n",
    "* Organizer of Big Data & Data Science Bogota Meetup\n",
    "* Sport addict, love to swim, play tennis, squash, and volleyball, among others.\n",
    "\n",
    "<p>\n",
    "\n",
    "<table style=\"border-collapse: collapse; border-top-color: rgb(255, 255, 255); border-right-color: rgb(255, 255, 255); border-bottom-color: rgb(255, 255, 255); border-left-color: rgb(255, 255, 255); border-top-width: 1px; border-right-width: 1px; border-bottom-width: 1px; border-left-width: 1px; \" border=\"0\" bordercolor=\"#888\" cellspacing=\"0\" align=\"left\">\n",
    "  <tr>\n",
    "    <td>\n",
    "<a href=\"mailto: al.bahnsen@gmail.com\"><svg width=\"40px\" height=\"40px\" viewBox=\"0 0 60 60\" version=\"1.1\" xmlns=\"http://www.w3.org/2000/svg\" xmlns:xlink=\"http://www.w3.org/1999/xlink\" xmlns:sketch=\"http://www.bohemiancoding.com/sketch/ns\">\n",
    "    <path d=\"M0.224580688,30 C0.224580688,13.4314567 13.454941,0 29.7754193,0 C46.0958976,0 59.3262579,13.4314567 59.3262579,30 C59.3262579,46.5685433 46.0958976,60 29.7754193,60 C13.454941,60 0.224580688,46.5685433 0.224580688,30 Z M0.224580688,30\" fill=\"#FFFFFF\" sketch:type=\"MSShapeGroup\"></path>\n",
    "    <path d=\"M35.0384324,31.6384006 L47.2131148,40.5764264 L47.2131148,20 L35.0384324,31.6384006 Z M13.7704918,20 L13.7704918,40.5764264 L25.9449129,31.6371491 L13.7704918,20 Z M30.4918033,35.9844891 L27.5851037,33.2065217 L13.7704918,42 L47.2131148,42 L33.3981762,33.2065217 L30.4918033,35.9844891 Z M46.2098361,20 L14.7737705,20 L30.4918033,32.4549304 L46.2098361,20 Z M46.2098361,20\" id=\"Shape\" fill=\"#333333\" sketch:type=\"MSShapeGroup\"></path>\n",
    "    <path d=\"M59.3262579,30 C59.3262579,46.5685433 46.0958976,60 29.7754193,60 C23.7225405,60 18.0947051,58.1525134 13.4093244,54.9827754 L47.2695458,5.81941103 C54.5814438,11.2806503 59.3262579,20.0777973 59.3262579,30 Z M59.3262579,30\" id=\"reflec\" fill-opacity=\"0.08\" fill=\"#000000\" sketch:type=\"MSShapeGroup\"></path>\n",
    "</svg></a> \n",
    "</td> \n",
    "<td>\n",
    "<a href=\"mailto: al.bahnsen@gmail.com\" target=\"_blank\">al.bahnsen@gmail.com</a>  \n",
    "</td> </tr><tr> <td>\n",
    "                 \n",
    "<a href=\"http://github.com/albahnsen\"><svg width=\"40px\" height=\"40px\" viewBox=\"0 0 60 60\" version=\"1.1\" xmlns=\"http://www.w3.org/2000/svg\" xmlns:xlink=\"http://www.w3.org/1999/xlink\" xmlns:sketch=\"http://www.bohemiancoding.com/sketch/ns\">\n",
    "    <path d=\"M0.336871032,30 C0.336871032,13.4314567 13.5672313,0 29.8877097,0 C46.208188,0 59.4385483,13.4314567 59.4385483,30 C59.4385483,46.5685433 46.208188,60 29.8877097,60 C13.5672313,60 0.336871032,46.5685433 0.336871032,30 Z M0.336871032,30\" id=\"Github\" fill=\"#333333\" sketch:type=\"MSShapeGroup\"></path>\n",
    "    <path d=\"M18.2184245,31.9355566 C19.6068506,34.4507902 22.2845295,36.0156764 26.8007287,36.4485173 C26.1561023,36.9365335 25.3817877,37.8630984 25.2749857,38.9342607 C24.4644348,39.4574749 22.8347506,39.62966 21.5674303,39.2310659 C19.7918469,38.6717023 19.1119377,35.1642642 16.4533306,35.6636959 C15.8773626,35.772144 15.9917933,36.1507609 16.489567,36.4722998 C17.3001179,36.9955141 18.0629894,37.6500075 18.6513541,39.04366 C19.1033554,40.113871 20.0531304,42.0259813 23.0569369,42.0259813 C24.2489236,42.0259813 25.0842679,41.8832865 25.0842679,41.8832865 C25.0842679,41.8832865 25.107154,44.6144649 25.107154,45.6761142 C25.107154,46.9004355 23.4507693,47.2457569 23.4507693,47.8346108 C23.4507693,48.067679 23.9990832,48.0895588 24.4396415,48.0895588 C25.3102685,48.0895588 27.1220883,47.3646693 27.1220883,46.0918317 C27.1220883,45.0806012 27.1382993,41.6806599 27.1382993,41.0860982 C27.1382993,39.785673 27.8372803,39.3737607 27.8372803,39.3737607 C27.8372803,39.3737607 27.924057,46.3153869 27.6704022,47.2457569 C27.3728823,48.3397504 26.8360115,48.1846887 26.8360115,48.6727049 C26.8360115,49.3985458 29.0168704,48.8505978 29.7396911,47.2571725 C30.2984945,46.0166791 30.0543756,39.2072834 30.0543756,39.2072834 L30.650369,39.1949165 C30.650369,39.1949165 30.6837446,42.3123222 30.6637192,43.7373675 C30.6427402,45.2128317 30.5426134,47.0792797 31.4208692,47.9592309 C31.9977907,48.5376205 33.868733,49.5526562 33.868733,48.62514 C33.868733,48.0857536 32.8436245,47.6424485 32.8436245,46.1831564 L32.8436245,39.4688905 C33.6618042,39.4688905 33.5387911,41.6768547 33.5387911,41.6768547 L33.5988673,45.7788544 C33.5988673,45.7788544 33.4186389,47.2733446 35.2190156,47.8992991 C35.8541061,48.1209517 37.2139245,48.1808835 37.277815,47.8089257 C37.3417055,47.4360167 35.6405021,46.8814096 35.6252446,45.7236791 C35.6157088,45.0178155 35.6567131,44.6059032 35.6567131,41.5379651 C35.6567131,38.470027 35.2438089,37.336079 33.8048426,36.4323453 C38.2457082,35.9766732 40.9939527,34.880682 42.3337458,31.9450695 C42.4383619,31.9484966 42.8791491,30.5737742 42.8219835,30.5742482 C43.1223642,29.4659853 43.2844744,28.1550957 43.3168964,26.6025764 C43.3092677,22.3930799 41.2895654,20.9042975 40.9014546,20.205093 C41.4736082,17.0182425 40.8060956,15.5675121 40.4961791,15.0699829 C39.3518719,14.6637784 36.5149435,16.1145088 34.9653608,17.1371548 C32.438349,16.3998984 27.0982486,16.4712458 25.0957109,17.3274146 C21.4005522,14.6875608 19.445694,15.0918628 19.445694,15.0918628 C19.445694,15.0918628 18.1821881,17.351197 19.1119377,20.6569598 C17.8961113,22.2028201 16.9902014,23.2968136 16.9902014,26.1963718 C16.9902014,27.8297516 17.1828264,29.2918976 17.6176632,30.5685404 C17.5643577,30.5684093 18.2008493,31.9359777 18.2184245,31.9355566 Z M18.2184245,31.9355566\" id=\"Path\" fill=\"#FFFFFF\" sketch:type=\"MSShapeGroup\"></path>\n",
    "    <path d=\"M59.4385483,30 C59.4385483,46.5685433 46.208188,60 29.8877097,60 C23.8348308,60 18.2069954,58.1525134 13.5216148,54.9827754 L47.3818361,5.81941103 C54.6937341,11.2806503 59.4385483,20.0777973 59.4385483,30 Z M59.4385483,30\" id=\"reflec\" fill-opacity=\"0.08\" fill=\"#000000\" sketch:type=\"MSShapeGroup\"></path>\n",
    "</svg></a>\n",
    "\n",
    "</td><td>\n",
    "<a href=\"http://github.com/albahnsen\" target=\"_blank\">http://github.com/albahnsen</a>  \n",
    "\n",
    "</td> </tr><tr> <td>\n",
    "\n",
    "<a href=\"http://linkedin.com/in/albahnsen\"><svg width=\"40px\" height=\"40px\" viewBox=\"0 0 60 60\" version=\"1.1\" xmlns=\"http://www.w3.org/2000/svg\" xmlns:xlink=\"http://www.w3.org/1999/xlink\" xmlns:sketch=\"http://www.bohemiancoding.com/sketch/ns\">\n",
    "    <path d=\"M0.449161376,30 C0.449161376,13.4314567 13.6795217,0 30,0 C46.3204783,0 59.5508386,13.4314567 59.5508386,30 C59.5508386,46.5685433 46.3204783,60 30,60 C13.6795217,60 0.449161376,46.5685433 0.449161376,30 Z M0.449161376,30\" fill=\"#007BB6\" sketch:type=\"MSShapeGroup\"></path>\n",
    "    <path d=\"M22.4680392,23.7098144 L15.7808366,23.7098144 L15.7808366,44.1369537 L22.4680392,44.1369537 L22.4680392,23.7098144 Z M22.4680392,23.7098144\" id=\"Path\" fill=\"#FFFFFF\" sketch:type=\"MSShapeGroup\"></path>\n",
    "    <path d=\"M22.9084753,17.3908761 C22.8650727,15.3880081 21.4562917,13.862504 19.1686418,13.862504 C16.8809918,13.862504 15.3854057,15.3880081 15.3854057,17.3908761 C15.3854057,19.3522579 16.836788,20.9216886 19.0818366,20.9216886 L19.1245714,20.9216886 C21.4562917,20.9216886 22.9084753,19.3522579 22.9084753,17.3908761 Z M22.9084753,17.3908761\" id=\"Path\" fill=\"#FFFFFF\" sketch:type=\"MSShapeGroup\"></path>\n",
    "    <path d=\"M46.5846502,32.4246563 C46.5846502,26.1503226 43.2856534,23.2301456 38.8851658,23.2301456 C35.3347011,23.2301456 33.7450983,25.2128128 32.8575489,26.6036896 L32.8575489,23.7103567 L26.1695449,23.7103567 C26.2576856,25.6271338 26.1695449,44.137496 26.1695449,44.137496 L32.8575489,44.137496 L32.8575489,32.7292961 C32.8575489,32.1187963 32.9009514,31.5097877 33.0777669,31.0726898 C33.5610713,29.8530458 34.6614937,28.5902885 36.5089747,28.5902885 C38.9297703,28.5902885 39.8974476,30.4634101 39.8974476,33.2084226 L39.8974476,44.1369537 L46.5843832,44.1369537 L46.5846502,32.4246563 Z M46.5846502,32.4246563\" id=\"Path\" fill=\"#FFFFFF\" sketch:type=\"MSShapeGroup\"></path>\n",
    "    <path d=\"M59.5508386,30 C59.5508386,46.5685433 46.3204783,60 30,60 C23.9471212,60 18.3192858,58.1525134 13.6339051,54.9827754 L47.4941264,5.81941103 C54.8060245,11.2806503 59.5508386,20.0777973 59.5508386,30 Z M59.5508386,30\" id=\"reflec\" fill-opacity=\"0.08\" fill=\"#000000\" sketch:type=\"MSShapeGroup\"></path>\n",
    "</svg></a> \n",
    "</td> <td>\n",
    "<a href=\"http://linkedin.com/in/albahnsen\" target=\"_blank\">http://linkedin.com/in/albahnsen</a>  \n",
    "\n",
    "</td> </tr><tr> <td>\n",
    "\n",
    "<a href=\"http://twitter.com/albahnsen\"><svg width=\"40px\" height=\"40px\" viewBox=\"0 0 60 60\" version=\"1.1\" xmlns=\"http://www.w3.org/2000/svg\" xmlns:xlink=\"http://www.w3.org/1999/xlink\" xmlns:sketch=\"http://www.bohemiancoding.com/sketch/ns\">\n",
    "    <path d=\"M0,30 C0,13.4314567 13.4508663,0 30.0433526,0 C46.6358389,0 60.0867052,13.4314567 60.0867052,30 C60.0867052,46.5685433 46.6358389,60 30.0433526,60 C13.4508663,60 0,46.5685433 0,30 Z M0,30\" fill=\"#4099FF\" sketch:type=\"MSShapeGroup\"></path>\n",
    "    <path d=\"M29.2997675,23.8879776 L29.3627206,24.9260453 L28.3135016,24.798935 C24.4943445,24.3116787 21.1578281,22.6592444 18.3249368,19.8840023 L16.9399677,18.5069737 L16.5832333,19.5238563 C15.8277956,21.7906572 16.3104363,24.1845684 17.8842648,25.7946325 C18.72364,26.6844048 18.5347806,26.8115152 17.0868584,26.2818888 C16.5832333,26.1124083 16.1425613,25.985298 16.1005925,26.0488532 C15.9537019,26.1971486 16.457327,28.1249885 16.8560302,28.8876505 C17.4016241,29.9469033 18.5137962,30.9849709 19.7308902,31.5993375 L20.7591248,32.0865938 L19.5420308,32.1077788 C18.3669055,32.1077788 18.3249368,32.1289639 18.4508431,32.57385 C18.8705307,33.9508786 20.5282967,35.4126474 22.3749221,36.048199 L23.6759536,36.4930852 L22.5427971,37.1710069 C20.8640467,38.1455194 18.891515,38.6963309 16.9189833,38.738701 C15.9746862,38.759886 15.1982642,38.8446262 15.1982642,38.9081814 C15.1982642,39.1200319 17.7583585,40.306395 19.2482495,40.7724662 C23.7179224,42.1494948 29.0269705,41.5563132 33.0140027,39.2047722 C35.846894,37.5311528 38.6797853,34.2050993 40.0018012,30.9849709 C40.7152701,29.2689815 41.428739,26.1335934 41.428739,24.6294545 C41.428739,23.654942 41.4916922,23.5278317 42.6668174,22.3626537 C43.359302,21.6847319 44.0098178,20.943255 44.135724,20.7314044 C44.3455678,20.3288884 44.3245835,20.3288884 43.2543801,20.6890343 C41.4707078,21.324586 41.2188952,21.2398458 42.1002392,20.2865183 C42.750755,19.6085965 43.527177,18.3798634 43.527177,18.0197174 C43.527177,17.9561623 43.2124113,18.0620876 42.8556769,18.252753 C42.477958,18.4646036 41.6385828,18.7823794 41.0090514,18.9730449 L39.8758949,19.3331908 L38.8476603,18.634084 C38.281082,18.252753 37.4836756,17.829052 37.063988,17.7019416 C35.9937846,17.4053509 34.357003,17.447721 33.3917215,17.7866818 C30.768674,18.7400093 29.110908,21.1974757 29.2997675,23.8879776 Z M29.2997675,23.8879776\" id=\"Path\" fill=\"#FFFFFF\" sketch:type=\"MSShapeGroup\"></path>\n",
    "    <path d=\"M60.0867052,30 C60.0867052,46.5685433 46.6358389,60 30.0433526,60 C23.8895925,60 18.1679598,58.1525134 13.4044895,54.9827754 L47.8290478,5.81941103 C55.2628108,11.2806503 60.0867052,20.0777973 60.0867052,30 Z M60.0867052,30\" id=\"reflec\" fill-opacity=\"0.08\" fill=\"#000000\" sketch:type=\"MSShapeGroup\"></path>\n",
    "</svg></a>\n",
    "</td> <td>\n",
    "<a href=\"http://twitter.com/albahnsen\" target=\"_blank\">@albahnsen</a>  \n",
    "\n",
    "</td> </tr>\n",
    "</table>"
   ]
  },
  {
   "cell_type": "markdown",
   "metadata": {
    "slideshow": {
     "slide_type": "slide"
    }
   },
   "source": [
    "# Agenda\n",
    "\n",
    "* Quick Intro to Fraud Detection\n",
    "* Financial Evaluation of a Fraud Detection Model\n",
    "* Example-Dependent Classification\n",
    "* CostCla Library\n",
    "* Conclusion and Future Work"
   ]
  },
  {
   "cell_type": "markdown",
   "metadata": {
    "slideshow": {
     "slide_type": "subslide"
    }
   },
   "source": [
    "# Fraud Detection"
   ]
  },
  {
   "cell_type": "markdown",
   "metadata": {
    "slideshow": {
     "slide_type": "fragment"
    }
   },
   "source": [
    "Estimate the **probability** of a transaction being **fraud** based on analyzing customer patterns and recent fraudulent behavior"
   ]
  },
  {
   "cell_type": "markdown",
   "metadata": {
    "slideshow": {
     "slide_type": "fragment"
    }
   },
   "source": [
    "<center>\n",
    "<div>\n",
    "<img img class=\"logo\" src=\"https://raw.githubusercontent.com/albahnsen/CostSensitiveClassification/master/doc/tutorials/files/trx_flow.png\" style=\"width: 800px;\">\n",
    "</div>\n",
    "</center>"
   ]
  },
  {
   "cell_type": "markdown",
   "metadata": {
    "slideshow": {
     "slide_type": "subslide"
    }
   },
   "source": [
    "# Fraud Detection"
   ]
  },
  {
   "cell_type": "markdown",
   "metadata": {
    "slideshow": {
     "slide_type": "fragment"
    }
   },
   "source": [
    "Issues when constructing a fraud detection system:\n",
    "\n",
    "* Skewness of the data\n",
    "* **Cost-sensitivity**\n",
    "* Short time response of the system\n",
    "* Dimensionality of the search space\n",
    "* Feature preprocessing\n",
    "* Model selection"
   ]
  },
  {
   "cell_type": "markdown",
   "metadata": {
    "slideshow": {
     "slide_type": "fragment"
    }
   },
   "source": [
    "Different machine learning methods are used in practice, and in the\n",
    "literature: logistic regression, neural networks, discriminant\n",
    "analysis, genetic programing, decision trees, random forests among others"
   ]
  },
  {
   "cell_type": "markdown",
   "metadata": {
    "slideshow": {
     "slide_type": "subslide"
    }
   },
   "source": [
    "# Fraud Detection"
   ]
  },
  {
   "cell_type": "markdown",
   "metadata": {
    "slideshow": {
     "slide_type": "-"
    }
   },
   "source": [
    "Formally, a fraud detection is a statistical model that allows the estimation of the probability of transaction $i$ being a fraud ($y_i=1$)\n",
    "\n",
    "  $$\\hat p_i=P(y_i=1|\\mathbf{x}_i)$$ "
   ]
  },
  {
   "cell_type": "markdown",
   "metadata": {
    "slideshow": {
     "slide_type": "slide"
    }
   },
   "source": [
    "<h1 class=\"bigtitle\">Data!</h1>\n",
    "<center>\n",
    "<img img class=\"logo\" src=\"http://www.sei-security.com/wp-content/uploads/2015/12/shutterstock_144683186.jpg\" style=\"width: 400px;\">\n",
    "</center>"
   ]
  },
  {
   "cell_type": "markdown",
   "metadata": {
    "slideshow": {
     "slide_type": "subslide"
    }
   },
   "source": [
    "# Load dataset from CostCla package"
   ]
  },
  {
   "cell_type": "code",
   "execution_count": 1,
   "metadata": {
    "collapsed": false,
    "slideshow": {
     "slide_type": "-"
    }
   },
   "outputs": [],
   "source": [
    "import pandas as pd\n",
    "import numpy as np\n",
    "from costcla import datasets"
   ]
  },
  {
   "cell_type": "code",
   "execution_count": 2,
   "metadata": {
    "collapsed": false,
    "slideshow": {
     "slide_type": "skip"
    }
   },
   "outputs": [],
   "source": [
    "from costcla.datasets.base import Bunch\n",
    "def load_fraud(cost_mat_parameters=dict(Ca=10)):\n",
    "#     data_ = pd.read_pickle(\"trx_fraud_data.pk\")\n",
    "    data_ = pd.read_pickle(\"/home/al/DriveAl/EasySol/Projects/DetectTA/Tests/trx_fraud_data_v3_agg.pk\")\n",
    "    target = data_['fraud'].values\n",
    "    data = data_.drop('fraud', 1)\n",
    "    n_samples = data.shape[0]\n",
    "    cost_mat = np.zeros((n_samples, 4))\n",
    "    cost_mat[:, 0] = cost_mat_parameters['Ca']\n",
    "    cost_mat[:, 1] = data['amount']\n",
    "    cost_mat[:, 2] = cost_mat_parameters['Ca']\n",
    "    cost_mat[:, 3] = 0.0\n",
    "    return Bunch(data=data.values, target=target, cost_mat=cost_mat,\n",
    "                 target_names=['Legitimate Trx', 'Fraudulent Trx'], DESCR='',\n",
    "                 feature_names=data.columns.values, name='FraudDetection')\n",
    "datasets.load_fraud = load_fraud"
   ]
  },
  {
   "cell_type": "code",
   "execution_count": 3,
   "metadata": {
    "collapsed": false,
    "slideshow": {
     "slide_type": "-"
    }
   },
   "outputs": [],
   "source": [
    "data = datasets.load_fraud()"
   ]
  },
  {
   "cell_type": "markdown",
   "metadata": {
    "slideshow": {
     "slide_type": "fragment"
    }
   },
   "source": [
    "### Data file"
   ]
  },
  {
   "cell_type": "code",
   "execution_count": 4,
   "metadata": {
    "collapsed": false,
    "slideshow": {
     "slide_type": "-"
    }
   },
   "outputs": [
    {
     "name": "stdout",
     "output_type": "stream",
     "text": [
      "dict_keys(['data', 'target', 'name', 'cost_mat', 'DESCR', 'feature_names', 'target_names'])\n",
      "Number of examples  207147\n"
     ]
    }
   ],
   "source": [
    "print(data.keys())\n",
    "print('Number of examples ', data.target.shape[0])"
   ]
  },
  {
   "cell_type": "markdown",
   "metadata": {
    "slideshow": {
     "slide_type": "subslide"
    }
   },
   "source": [
    "### Class Label"
   ]
  },
  {
   "cell_type": "code",
   "execution_count": 5,
   "metadata": {
    "collapsed": false,
    "scrolled": true
   },
   "outputs": [
    {
     "name": "stdout",
     "output_type": "stream",
     "text": [
      "                           Frequency  Percentage\n",
      "Negative (Legitimate Trx)     206261   99.572284\n",
      "Positive (Fraud Trx)             886    0.427716\n",
      "Total Trx                     207147    1.000000\n"
     ]
    }
   ],
   "source": [
    "target = pd.DataFrame(pd.Series(data.target).value_counts(), columns=('Frequency',))\n",
    "target['Percentage'] = (target['Frequency'] / target['Frequency'].sum())  * 100\n",
    "target.index = ['Negative (Legitimate Trx)', 'Positive (Fraud Trx)']\n",
    "target.loc['Total Trx'] = [data.target.shape[0], 1.]\n",
    "print(target)"
   ]
  },
  {
   "cell_type": "markdown",
   "metadata": {
    "slideshow": {
     "slide_type": "subslide"
    }
   },
   "source": [
    "### Features"
   ]
  },
  {
   "cell_type": "code",
   "execution_count": 6,
   "metadata": {
    "collapsed": false
   },
   "outputs": [
    {
     "data": {
      "text/html": [
       "<div>\n",
       "<table border=\"1\" class=\"dataframe\">\n",
       "  <thead>\n",
       "    <tr style=\"text-align: right;\">\n",
       "      <th></th>\n",
       "      <th>Features</th>\n",
       "    </tr>\n",
       "  </thead>\n",
       "  <tbody>\n",
       "    <tr>\n",
       "      <th>0</th>\n",
       "      <td>date</td>\n",
       "    </tr>\n",
       "    <tr>\n",
       "      <th>1</th>\n",
       "      <td>account</td>\n",
       "    </tr>\n",
       "    <tr>\n",
       "      <th>2</th>\n",
       "      <td>amount</td>\n",
       "    </tr>\n",
       "    <tr>\n",
       "      <th>3</th>\n",
       "      <td>type</td>\n",
       "    </tr>\n",
       "  </tbody>\n",
       "</table>\n",
       "</div>"
      ],
      "text/plain": [
       "  Features\n",
       "0     date\n",
       "1  account\n",
       "2   amount\n",
       "3     type"
      ]
     },
     "execution_count": 6,
     "metadata": {},
     "output_type": "execute_result"
    }
   ],
   "source": [
    "pd.DataFrame(data.feature_names[:4], columns=('Features',))"
   ]
  },
  {
   "cell_type": "markdown",
   "metadata": {
    "slideshow": {
     "slide_type": "subslide"
    }
   },
   "source": [
    "### Features"
   ]
  },
  {
   "cell_type": "code",
   "execution_count": 7,
   "metadata": {
    "collapsed": false,
    "slideshow": {
     "slide_type": "fragment"
    }
   },
   "outputs": [
    {
     "data": {
      "text/html": [
       "<div>\n",
       "<table border=\"1\" class=\"dataframe\">\n",
       "  <thead>\n",
       "    <tr style=\"text-align: right;\">\n",
       "      <th></th>\n",
       "      <th>date</th>\n",
       "      <th>account</th>\n",
       "      <th>amount</th>\n",
       "      <th>type</th>\n",
       "    </tr>\n",
       "  </thead>\n",
       "  <tbody>\n",
       "    <tr>\n",
       "      <th>0</th>\n",
       "      <td>2013-01-19 17:31:46</td>\n",
       "      <td>1207</td>\n",
       "      <td>502.52</td>\n",
       "      <td>200</td>\n",
       "    </tr>\n",
       "    <tr>\n",
       "      <th>1</th>\n",
       "      <td>2013-01-19 17:31:25</td>\n",
       "      <td>1207</td>\n",
       "      <td>502.52</td>\n",
       "      <td>200</td>\n",
       "    </tr>\n",
       "    <tr>\n",
       "      <th>2</th>\n",
       "      <td>2013-01-19 17:27:48</td>\n",
       "      <td>1207</td>\n",
       "      <td>1485.71</td>\n",
       "      <td>200</td>\n",
       "    </tr>\n",
       "    <tr>\n",
       "      <th>3</th>\n",
       "      <td>2013-01-19 17:25:52</td>\n",
       "      <td>191</td>\n",
       "      <td>1941.74</td>\n",
       "      <td>200</td>\n",
       "    </tr>\n",
       "    <tr>\n",
       "      <th>4</th>\n",
       "      <td>2013-01-19 17:12:38</td>\n",
       "      <td>1469</td>\n",
       "      <td>20.6</td>\n",
       "      <td>200</td>\n",
       "    </tr>\n",
       "    <tr>\n",
       "      <th>5</th>\n",
       "      <td>2013-01-19 17:12:21</td>\n",
       "      <td>1469</td>\n",
       "      <td>440.42</td>\n",
       "      <td>200</td>\n",
       "    </tr>\n",
       "    <tr>\n",
       "      <th>6</th>\n",
       "      <td>2013-01-19 17:11:58</td>\n",
       "      <td>1469</td>\n",
       "      <td>2073.57</td>\n",
       "      <td>200</td>\n",
       "    </tr>\n",
       "    <tr>\n",
       "      <th>7</th>\n",
       "      <td>2013-01-19 17:11:00</td>\n",
       "      <td>1207</td>\n",
       "      <td>502.52</td>\n",
       "      <td>200</td>\n",
       "    </tr>\n",
       "    <tr>\n",
       "      <th>8</th>\n",
       "      <td>2013-01-19 17:10:32</td>\n",
       "      <td>3600</td>\n",
       "      <td>4991.27</td>\n",
       "      <td>200</td>\n",
       "    </tr>\n",
       "    <tr>\n",
       "      <th>9</th>\n",
       "      <td>2013-01-19 17:10:00</td>\n",
       "      <td>5806</td>\n",
       "      <td>20.85</td>\n",
       "      <td>200</td>\n",
       "    </tr>\n",
       "  </tbody>\n",
       "</table>\n",
       "</div>"
      ],
      "text/plain": [
       "                  date account   amount type\n",
       "0  2013-01-19 17:31:46    1207   502.52  200\n",
       "1  2013-01-19 17:31:25    1207   502.52  200\n",
       "2  2013-01-19 17:27:48    1207  1485.71  200\n",
       "3  2013-01-19 17:25:52     191  1941.74  200\n",
       "4  2013-01-19 17:12:38    1469     20.6  200\n",
       "5  2013-01-19 17:12:21    1469   440.42  200\n",
       "6  2013-01-19 17:11:58    1469  2073.57  200\n",
       "7  2013-01-19 17:11:00    1207   502.52  200\n",
       "8  2013-01-19 17:10:32    3600  4991.27  200\n",
       "9  2013-01-19 17:10:00    5806    20.85  200"
      ]
     },
     "execution_count": 7,
     "metadata": {},
     "output_type": "execute_result"
    }
   ],
   "source": [
    "df = pd.DataFrame(data.data[:, :4], columns=data.feature_names[:4])\n",
    "df.head(10)"
   ]
  },
  {
   "cell_type": "markdown",
   "metadata": {
    "slideshow": {
     "slide_type": "subslide"
    }
   },
   "source": [
    "### Aggregated Features"
   ]
  },
  {
   "cell_type": "code",
   "execution_count": 8,
   "metadata": {
    "collapsed": false,
    "slideshow": {
     "slide_type": "fragment"
    }
   },
   "outputs": [
    {
     "data": {
      "text/html": [
       "<div>\n",
       "<table border=\"1\" class=\"dataframe\">\n",
       "  <thead>\n",
       "    <tr style=\"text-align: right;\">\n",
       "      <th></th>\n",
       "      <th>Trx_sum_6H</th>\n",
       "      <th>Trx_count_6H</th>\n",
       "      <th>Trx_sum_1D</th>\n",
       "      <th>Trx_count_1D</th>\n",
       "      <th>Trx_sum_2D</th>\n",
       "      <th>Trx_count_2D</th>\n",
       "      <th>Trx_sum_7D</th>\n",
       "      <th>Trx_count_7D</th>\n",
       "      <th>Trx_sum_15D</th>\n",
       "      <th>Trx_count_15D</th>\n",
       "      <th>Trx_sum_30D</th>\n",
       "      <th>Trx_count_30D</th>\n",
       "    </tr>\n",
       "  </thead>\n",
       "  <tbody>\n",
       "    <tr>\n",
       "      <th>0</th>\n",
       "      <td>2757.74</td>\n",
       "      <td>4</td>\n",
       "      <td>2757.74</td>\n",
       "      <td>4</td>\n",
       "      <td>2757.74</td>\n",
       "      <td>4</td>\n",
       "      <td>2757.74</td>\n",
       "      <td>4</td>\n",
       "      <td>2757.74</td>\n",
       "      <td>4</td>\n",
       "      <td>2757.74</td>\n",
       "      <td>4</td>\n",
       "    </tr>\n",
       "    <tr>\n",
       "      <th>1</th>\n",
       "      <td>2255.22</td>\n",
       "      <td>3</td>\n",
       "      <td>2255.22</td>\n",
       "      <td>3</td>\n",
       "      <td>2255.22</td>\n",
       "      <td>3</td>\n",
       "      <td>2255.22</td>\n",
       "      <td>3</td>\n",
       "      <td>2255.22</td>\n",
       "      <td>3</td>\n",
       "      <td>2255.22</td>\n",
       "      <td>3</td>\n",
       "    </tr>\n",
       "    <tr>\n",
       "      <th>2</th>\n",
       "      <td>769.51</td>\n",
       "      <td>2</td>\n",
       "      <td>769.51</td>\n",
       "      <td>2</td>\n",
       "      <td>769.51</td>\n",
       "      <td>2</td>\n",
       "      <td>769.51</td>\n",
       "      <td>2</td>\n",
       "      <td>769.51</td>\n",
       "      <td>2</td>\n",
       "      <td>769.51</td>\n",
       "      <td>2</td>\n",
       "    </tr>\n",
       "    <tr>\n",
       "      <th>3</th>\n",
       "      <td>0</td>\n",
       "      <td>0</td>\n",
       "      <td>0</td>\n",
       "      <td>0</td>\n",
       "      <td>0</td>\n",
       "      <td>0</td>\n",
       "      <td>0</td>\n",
       "      <td>0</td>\n",
       "      <td>0</td>\n",
       "      <td>0</td>\n",
       "      <td>0</td>\n",
       "      <td>0</td>\n",
       "    </tr>\n",
       "    <tr>\n",
       "      <th>4</th>\n",
       "      <td>2513.99</td>\n",
       "      <td>2</td>\n",
       "      <td>2513.99</td>\n",
       "      <td>2</td>\n",
       "      <td>7674.54</td>\n",
       "      <td>3</td>\n",
       "      <td>15523.6</td>\n",
       "      <td>10</td>\n",
       "      <td>39894.8</td>\n",
       "      <td>27</td>\n",
       "      <td>58058</td>\n",
       "      <td>48</td>\n",
       "    </tr>\n",
       "    <tr>\n",
       "      <th>5</th>\n",
       "      <td>2073.57</td>\n",
       "      <td>1</td>\n",
       "      <td>2073.57</td>\n",
       "      <td>1</td>\n",
       "      <td>7234.12</td>\n",
       "      <td>2</td>\n",
       "      <td>15083.2</td>\n",
       "      <td>9</td>\n",
       "      <td>39454.4</td>\n",
       "      <td>26</td>\n",
       "      <td>57617.6</td>\n",
       "      <td>47</td>\n",
       "    </tr>\n",
       "    <tr>\n",
       "      <th>6</th>\n",
       "      <td>0</td>\n",
       "      <td>0</td>\n",
       "      <td>0</td>\n",
       "      <td>0</td>\n",
       "      <td>5160.55</td>\n",
       "      <td>1</td>\n",
       "      <td>13009.6</td>\n",
       "      <td>8</td>\n",
       "      <td>37380.8</td>\n",
       "      <td>25</td>\n",
       "      <td>55544.1</td>\n",
       "      <td>46</td>\n",
       "    </tr>\n",
       "    <tr>\n",
       "      <th>7</th>\n",
       "      <td>266.99</td>\n",
       "      <td>1</td>\n",
       "      <td>266.99</td>\n",
       "      <td>1</td>\n",
       "      <td>266.99</td>\n",
       "      <td>1</td>\n",
       "      <td>266.99</td>\n",
       "      <td>1</td>\n",
       "      <td>266.99</td>\n",
       "      <td>1</td>\n",
       "      <td>266.99</td>\n",
       "      <td>1</td>\n",
       "    </tr>\n",
       "    <tr>\n",
       "      <th>8</th>\n",
       "      <td>588.22</td>\n",
       "      <td>2</td>\n",
       "      <td>588.22</td>\n",
       "      <td>2</td>\n",
       "      <td>588.22</td>\n",
       "      <td>2</td>\n",
       "      <td>1086.83</td>\n",
       "      <td>4</td>\n",
       "      <td>4722.14</td>\n",
       "      <td>11</td>\n",
       "      <td>11529.4</td>\n",
       "      <td>15</td>\n",
       "    </tr>\n",
       "    <tr>\n",
       "      <th>9</th>\n",
       "      <td>0</td>\n",
       "      <td>0</td>\n",
       "      <td>0</td>\n",
       "      <td>0</td>\n",
       "      <td>20.85</td>\n",
       "      <td>1</td>\n",
       "      <td>20.85</td>\n",
       "      <td>1</td>\n",
       "      <td>20.85</td>\n",
       "      <td>1</td>\n",
       "      <td>20.85</td>\n",
       "      <td>1</td>\n",
       "    </tr>\n",
       "  </tbody>\n",
       "</table>\n",
       "</div>"
      ],
      "text/plain": [
       "  Trx_sum_6H Trx_count_6H Trx_sum_1D Trx_count_1D Trx_sum_2D Trx_count_2D  \\\n",
       "0    2757.74            4    2757.74            4    2757.74            4   \n",
       "1    2255.22            3    2255.22            3    2255.22            3   \n",
       "2     769.51            2     769.51            2     769.51            2   \n",
       "3          0            0          0            0          0            0   \n",
       "4    2513.99            2    2513.99            2    7674.54            3   \n",
       "5    2073.57            1    2073.57            1    7234.12            2   \n",
       "6          0            0          0            0    5160.55            1   \n",
       "7     266.99            1     266.99            1     266.99            1   \n",
       "8     588.22            2     588.22            2     588.22            2   \n",
       "9          0            0          0            0      20.85            1   \n",
       "\n",
       "  Trx_sum_7D Trx_count_7D Trx_sum_15D Trx_count_15D Trx_sum_30D Trx_count_30D  \n",
       "0    2757.74            4     2757.74             4     2757.74             4  \n",
       "1    2255.22            3     2255.22             3     2255.22             3  \n",
       "2     769.51            2      769.51             2      769.51             2  \n",
       "3          0            0           0             0           0             0  \n",
       "4    15523.6           10     39894.8            27       58058            48  \n",
       "5    15083.2            9     39454.4            26     57617.6            47  \n",
       "6    13009.6            8     37380.8            25     55544.1            46  \n",
       "7     266.99            1      266.99             1      266.99             1  \n",
       "8    1086.83            4     4722.14            11     11529.4            15  \n",
       "9      20.85            1       20.85             1       20.85             1  "
      ]
     },
     "execution_count": 8,
     "metadata": {},
     "output_type": "execute_result"
    }
   ],
   "source": [
    "df = pd.DataFrame(data.data[:, 4:], columns=data.feature_names[4:])\n",
    "df.head(10)"
   ]
  },
  {
   "cell_type": "markdown",
   "metadata": {
    "slideshow": {
     "slide_type": "subslide"
    }
   },
   "source": [
    "# Fraud Detection as a  classification problem"
   ]
  },
  {
   "cell_type": "markdown",
   "metadata": {
    "slideshow": {
     "slide_type": "-"
    }
   },
   "source": [
    "### Split in training and testing"
   ]
  },
  {
   "cell_type": "code",
   "execution_count": 9,
   "metadata": {
    "collapsed": false,
    "slideshow": {
     "slide_type": "-"
    }
   },
   "outputs": [],
   "source": [
    "from sklearn.cross_validation import train_test_split\n",
    "X = data.data[:, [2, 3] + list(range(4, data.data.shape[1]))].astype(np.float64)\n",
    "X_train, X_test, y_train, y_test, cost_mat_train, cost_mat_test = \\\n",
    "train_test_split(X, data.target, data.cost_mat, test_size=0.33, random_state=10)"
   ]
  },
  {
   "cell_type": "markdown",
   "metadata": {
    "slideshow": {
     "slide_type": "subslide"
    }
   },
   "source": [
    "# Fraud Detection as a classification problem"
   ]
  },
  {
   "cell_type": "markdown",
   "metadata": {
    "slideshow": {
     "slide_type": "-"
    }
   },
   "source": [
    "### Fit models"
   ]
  },
  {
   "cell_type": "code",
   "execution_count": 10,
   "metadata": {
    "collapsed": false,
    "slideshow": {
     "slide_type": "-"
    }
   },
   "outputs": [],
   "source": [
    "from sklearn.ensemble import RandomForestClassifier\n",
    "from sklearn.tree import DecisionTreeClassifier\n",
    "\n",
    "classifiers = {\"RF\": {\"f\": RandomForestClassifier()},\n",
    "               \"DT\": {\"f\": DecisionTreeClassifier()}}\n",
    "\n",
    "ci_models = ['DT', 'RF']\n",
    "# Fit the classifiers using the training dataset\n",
    "for model in classifiers.keys():\n",
    "    classifiers[model][\"f\"].fit(X_train, y_train)\n",
    "    classifiers[model][\"c\"] = classifiers[model][\"f\"].predict(X_test)\n",
    "    classifiers[model][\"p\"] = classifiers[model][\"f\"].predict_proba(X_test)\n",
    "    classifiers[model][\"p_train\"] = classifiers[model][\"f\"].predict_proba(X_train)"
   ]
  },
  {
   "cell_type": "markdown",
   "metadata": {
    "slideshow": {
     "slide_type": "subslide"
    }
   },
   "source": [
    "# Models performance"
   ]
  },
  {
   "cell_type": "markdown",
   "metadata": {
    "slideshow": {
     "slide_type": "-"
    }
   },
   "source": [
    "### Evaluate metrics and plot results"
   ]
  },
  {
   "cell_type": "code",
   "execution_count": 11,
   "metadata": {
    "collapsed": true,
    "slideshow": {
     "slide_type": "skip"
    }
   },
   "outputs": [],
   "source": [
    "import warnings\n",
    "warnings.filterwarnings('ignore')"
   ]
  },
  {
   "cell_type": "code",
   "execution_count": 12,
   "metadata": {
    "collapsed": false,
    "slideshow": {
     "slide_type": "skip"
    }
   },
   "outputs": [],
   "source": [
    "%matplotlib inline\n",
    "import matplotlib.pyplot as plt\n",
    "from IPython.core.pylabtools import figsize\n",
    "import seaborn as sns\n",
    "colors = sns.color_palette()\n",
    "figsize(12, 8)"
   ]
  },
  {
   "cell_type": "code",
   "execution_count": 13,
   "metadata": {
    "collapsed": false,
    "slideshow": {
     "slide_type": "-"
    }
   },
   "outputs": [],
   "source": [
    "from sklearn.metrics import f1_score, precision_score, recall_score, accuracy_score\n",
    "\n",
    "measures = {\"F1Score\": f1_score, \"Precision\": precision_score, \n",
    "            \"Recall\": recall_score, \"Accuracy\": accuracy_score}\n",
    "\n",
    "results = pd.DataFrame(columns=measures.keys())\n",
    "\n",
    "for model in ci_models:\n",
    "    results.loc[model] = [measures[measure](y_test, classifiers[model][\"c\"]) for measure in measures.keys()]"
   ]
  },
  {
   "cell_type": "markdown",
   "metadata": {
    "slideshow": {
     "slide_type": "subslide"
    }
   },
   "source": [
    "# Models performance"
   ]
  },
  {
   "cell_type": "code",
   "execution_count": 14,
   "metadata": {
    "collapsed": false,
    "slideshow": {
     "slide_type": "skip"
    }
   },
   "outputs": [],
   "source": [
    "def fig_acc():\n",
    "    plt.bar(np.arange(results.shape[0])-0.3, results['Accuracy'], 0.6, label='Accuracy', color=colors[0])\n",
    "    plt.xticks(range(results.shape[0]), results.index) \n",
    "    plt.tick_params(labelsize=22); plt.title('Accuracy', size=30)\n",
    "    plt.show()"
   ]
  },
  {
   "cell_type": "code",
   "execution_count": 15,
   "metadata": {
    "collapsed": false
   },
   "outputs": [
    {
     "data": {
      "image/png": "[encoded data removed]",
      "text/plain": [
       "<matplotlib.figure.Figure at 0x7f0a954a9438>"
      ]
     },
     "metadata": {},
     "output_type": "display_data"
    }
   ],
   "source": [
    "fig_acc()"
   ]
  },
  {
   "cell_type": "markdown",
   "metadata": {
    "slideshow": {
     "slide_type": "subslide"
    }
   },
   "source": [
    "# Models performance"
   ]
  },
  {
   "cell_type": "code",
   "execution_count": 16,
   "metadata": {
    "collapsed": false,
    "slideshow": {
     "slide_type": "skip"
    }
   },
   "outputs": [],
   "source": [
    "def fig_f1():\n",
    "    plt.bar(np.arange(results.shape[0])-0.3, results['Precision'], 0.2, label='Precision', color=colors[0])\n",
    "    plt.bar(np.arange(results.shape[0])-0.3+0.2, results['Recall'], 0.2, label='Recall', color=colors[1])\n",
    "    plt.bar(np.arange(results.shape[0])-0.3+0.4, results['F1Score'], 0.2, label='F1Score', color=colors[2])\n",
    "\n",
    "    plt.xticks(range(results.shape[0]), results.index) \n",
    "    plt.tick_params(labelsize=22)\n",
    "    plt.ylim([0, 1])\n",
    "    plt.legend(loc='center left', bbox_to_anchor=(1, 0.5),fontsize=22)\n",
    "    plt.show()"
   ]
  },
  {
   "cell_type": "code",
   "execution_count": 17,
   "metadata": {
    "collapsed": false
   },
   "outputs": [
    {
     "data": {
      "image/png": "[encoded data removed]",
      "text/plain": [
       "<matplotlib.figure.Figure at 0x7f0a94018e80>"
      ]
     },
     "metadata": {},
     "output_type": "display_data"
    }
   ],
   "source": [
    "fig_f1()"
   ]
  },
  {
   "cell_type": "markdown",
   "metadata": {
    "slideshow": {
     "slide_type": "subslide"
    }
   },
   "source": [
    "# Models performance"
   ]
  },
  {
   "cell_type": "markdown",
   "metadata": {
    "slideshow": {
     "slide_type": "fragment"
    }
   },
   "source": [
    "- None of these measures takes into account the **business and economical realities** that take place in fraud detection. "
   ]
  },
  {
   "cell_type": "markdown",
   "metadata": {
    "slideshow": {
     "slide_type": "fragment"
    }
   },
   "source": [
    "- Losses due to fraud or customer satisfaction costs, are not considered in the evaluation of the different models. "
   ]
  },
  {
   "cell_type": "markdown",
   "metadata": {
    "slideshow": {
     "slide_type": "slide"
    }
   },
   "source": [
    "<h1 class=\"bigtitle\">Financial Evaluation of a Fraud Detection Model</h1>"
   ]
  },
  {
   "cell_type": "markdown",
   "metadata": {
    "slideshow": {
     "slide_type": "subslide"
    }
   },
   "source": [
    "# Motivation\n",
    "\n",
    "- Typically, a fraud model is evaluated using standard **cost-insensitive measures**.\n",
    "- However, in practice, the cost associated with **approving a fraudulent transaction** (False Negative) is quite   different from the cost associated with **declining a legitimate transaction** (False Positive).\n",
    "- Furthermore, the costs are **not constant** among transactions. "
   ]
  },
  {
   "cell_type": "markdown",
   "metadata": {
    "slideshow": {
     "slide_type": "subslide"
    }
   },
   "source": [
    "# Cost Matrix\n",
    "\n",
    " \n",
    "|  \t| Actual Positive ($y_i=1$)  \t|  Actual Negative \t($y_i=0$)|\n",
    "|---\t|:-:\t|:-:\t|\n",
    "|   Pred. Positive ($c_i=1$)\t|   $C_{TP_i}=C_a$\t|  $C_{FP_i}=C_a$ \t|\n",
    "|  Pred. Negative  ($c_i=0$) \t|   $C_{FN_i}=Amt_i$\t| $C_{TN_i}=0$\t|\n",
    "\n",
    "Where:\n",
    "\n",
    "- $C_{FN_i}$ = Amount of the transaction $i$\n",
    "- $C_a$ is the administrative cost of dealing with an alert\n",
    "\n",
    "For more info see <a href=\"http://albahnsen.com/files/%20Improving%20Credit%20Card%20Fraud%20Detection%20by%20using%20Calibrated%20Probabilities%20-%20Publish.pdf\" target=\"_blank\">[Correa Bahnsen et al., 2014]</a> "
   ]
  },
  {
   "cell_type": "code",
   "execution_count": 18,
   "metadata": {
    "collapsed": false,
    "slideshow": {
     "slide_type": "fragment"
    }
   },
   "outputs": [
    {
     "name": "stdout",
     "output_type": "stream",
     "text": [
      "[[   10.      18.89    10.       0.  ]\n",
      " [   10.    1563.82    10.       0.  ]\n",
      " [   10.      26.06    10.       0.  ]]\n"
     ]
    }
   ],
   "source": [
    "# The cost matrix is already calculated for the dataset\n",
    "# cost_mat[C_FP,C_FN,C_TP,C_TN]\n",
    "print(data.cost_mat[[10, 17, 50]])"
   ]
  },
  {
   "cell_type": "markdown",
   "metadata": {
    "slideshow": {
     "slide_type": "subslide"
    }
   },
   "source": [
    "# Financial savings\n",
    "\n",
    "The financial cost of using a classifier $f$ on $\\mathcal{S}$ is calculated by\n",
    "  \n",
    "  $$   Cost(f(\\mathcal{S})) = \\sum_{i=1}^N  y_i(1-c_i)C_{FN_i} + (1-y_i)c_i C_{FP_i}.$$\n",
    "\n",
    "Then the financial savings are defined as the cost of the algorithm versus the cost of using no algorithm at all.\n",
    "\n",
    "  $$    Savings(f(\\mathcal{S})) = \\frac{ Cost_l(\\mathcal{S}) - Cost(f(\\mathcal{S}))}   {Cost_l(\\mathcal{S})},$$\n",
    "\n",
    "where $Cost_l(\\mathcal{S})$ is the cost of the costless class"
   ]
  },
  {
   "cell_type": "markdown",
   "metadata": {
    "slideshow": {
     "slide_type": "subslide"
    }
   },
   "source": [
    "# Models Savings"
   ]
  },
  {
   "cell_type": "markdown",
   "metadata": {
    "slideshow": {
     "slide_type": "fragment"
    }
   },
   "source": [
    "## costcla.metrics.savings_score(y_true, y_pred, cost_mat)"
   ]
  },
  {
   "cell_type": "code",
   "execution_count": 19,
   "metadata": {
    "collapsed": true,
    "slideshow": {
     "slide_type": "fragment"
    }
   },
   "outputs": [],
   "source": [
    "# Calculation of the cost and savings\n",
    "from costcla.metrics import savings_score, cost_loss"
   ]
  },
  {
   "cell_type": "code",
   "execution_count": 20,
   "metadata": {
    "collapsed": false,
    "slideshow": {
     "slide_type": "-"
    }
   },
   "outputs": [],
   "source": [
    "# Evaluate the savings for each model\n",
    "results[\"Savings\"] = np.zeros(results.shape[0])\n",
    "for model in ci_models:\n",
    "    results[\"Savings\"].loc[model] = savings_score(y_test, classifiers[model][\"c\"], cost_mat_test)"
   ]
  },
  {
   "cell_type": "code",
   "execution_count": 21,
   "metadata": {
    "collapsed": false,
    "slideshow": {
     "slide_type": "skip"
    }
   },
   "outputs": [],
   "source": [
    "# Plot the results\n",
    "def fig_sav():\n",
    "    plt.bar(np.arange(results.shape[0])-0.4, results['Precision'], 0.2, label='Precision', color=colors[0])\n",
    "    plt.bar(np.arange(results.shape[0])-0.4+0.2, results['Recall'], 0.2, label='Recall', color=colors[1])\n",
    "    plt.bar(np.arange(results.shape[0])-0.4+0.4, results['F1Score'], 0.2, label='F1Score', color=colors[2])\n",
    "    plt.bar(np.arange(results.shape[0])-0.4+0.6, results['Savings'], 0.2, label='Savings', color=colors[3])\n",
    "\n",
    "    plt.xticks(range(results.shape[0]), results.index) \n",
    "    plt.tick_params(labelsize=22)\n",
    "    plt.ylim([0, 1])\n",
    "    plt.xlim([-0.5, results.shape[0] -1 + .5])\n",
    "    plt.legend(loc='center left', bbox_to_anchor=(1, 0.5),fontsize=22)\n",
    "    plt.show()"
   ]
  },
  {
   "cell_type": "markdown",
   "metadata": {
    "slideshow": {
     "slide_type": "subslide"
    }
   },
   "source": [
    "# Models Savings"
   ]
  },
  {
   "cell_type": "code",
   "execution_count": 22,
   "metadata": {
    "collapsed": false,
    "scrolled": true
   },
   "outputs": [
    {
     "data": {
      "image/png": "[encoded data removed]",
      "text/plain": [
       "<matplotlib.figure.Figure at 0x7f0a93f359e8>"
      ]
     },
     "metadata": {},
     "output_type": "display_data"
    }
   ],
   "source": [
    "fig_sav()"
   ]
  },
  {
   "cell_type": "markdown",
   "metadata": {
    "slideshow": {
     "slide_type": "subslide"
    }
   },
   "source": [
    "# Threshold Optimization"
   ]
  },
  {
   "cell_type": "markdown",
   "metadata": {
    "slideshow": {
     "slide_type": "-"
    }
   },
   "source": [
    "Convert a classifier cost-sensitive by selecting a proper threshold\n",
    "from training instances according to the savings"
   ]
  },
  {
   "cell_type": "markdown",
   "metadata": {
    "slideshow": {
     "slide_type": "-"
    }
   },
   "source": [
    "$$ t  \\quad = \\quad argmax_t \\: Savings(c(t), y) $$"
   ]
  },
  {
   "cell_type": "markdown",
   "metadata": {
    "slideshow": {
     "slide_type": "subslide"
    }
   },
   "source": [
    "# Threshold Optimization - Code"
   ]
  },
  {
   "cell_type": "markdown",
   "metadata": {
    "slideshow": {
     "slide_type": "-"
    }
   },
   "source": [
    "```\n",
    "costcla.models.ThresholdingOptimization(calibration=True)\n",
    "```"
   ]
  },
  {
   "cell_type": "markdown",
   "metadata": {
    "slideshow": {
     "slide_type": "fragment"
    }
   },
   "source": [
    "```\n",
    "fit(y_prob_train=None, cost_mat, y_true_train)\n",
    "```\n",
    "- Parameters\n",
    "    - **y_prob_train** : Predicted probabilities of the training set\n",
    "    - **cost_mat** : Cost matrix of the classification problem. \n",
    "    - **y_true_cal** : True class"
   ]
  },
  {
   "cell_type": "markdown",
   "metadata": {
    "slideshow": {
     "slide_type": "fragment"
    }
   },
   "source": [
    "```\n",
    "predict(y_prob)\n",
    "```\n",
    "- Parameters\n",
    "    - **y_prob** : Predicted probabilities\n",
    "\n",
    "- Returns\n",
    "    - **y_pred** : Predicted class"
   ]
  },
  {
   "cell_type": "markdown",
   "metadata": {
    "slideshow": {
     "slide_type": "subslide"
    }
   },
   "source": [
    "# Threshold Optimization"
   ]
  },
  {
   "cell_type": "code",
   "execution_count": 23,
   "metadata": {
    "collapsed": false,
    "scrolled": true,
    "slideshow": {
     "slide_type": "fragment"
    }
   },
   "outputs": [],
   "source": [
    "from costcla.models import ThresholdingOptimization\n",
    "\n",
    "for model in ci_models:\n",
    "    classifiers[model+\"-TO\"] = {\"f\": ThresholdingOptimization()}\n",
    "    # Fit\n",
    "    classifiers[model+\"-TO\"][\"f\"].fit(classifiers[model][\"p_train\"], cost_mat_train, y_train)\n",
    "    # Predict\n",
    "    classifiers[model+\"-TO\"][\"c\"] = classifiers[model+\"-TO\"][\"f\"].predict(classifiers[model][\"p\"])"
   ]
  },
  {
   "cell_type": "code",
   "execution_count": 24,
   "metadata": {
    "collapsed": false,
    "slideshow": {
     "slide_type": "fragment"
    }
   },
   "outputs": [
    {
     "name": "stdout",
     "output_type": "stream",
     "text": [
      "New thresholds\n",
      "DT-TO - 0.0128205128205\n",
      "RF-TO - 0.0253164556962\n"
     ]
    }
   ],
   "source": [
    "print('New thresholds')\n",
    "for model in ci_models:\n",
    "    print(model + '-TO - ' + str(classifiers[model+'-TO']['f'].threshold_))"
   ]
  },
  {
   "cell_type": "code",
   "execution_count": 25,
   "metadata": {
    "collapsed": false,
    "scrolled": true,
    "slideshow": {
     "slide_type": "skip"
    }
   },
   "outputs": [],
   "source": [
    "for model in ci_models:\n",
    "    # Evaluate\n",
    "    results.loc[model+\"-TO\"] = 0\n",
    "    results.loc[model+\"-TO\", measures.keys()] = \\\n",
    "    [measures[measure](y_test, classifiers[model+\"-TO\"][\"c\"]) for measure in measures.keys()]\n",
    "    results[\"Savings\"].loc[model+\"-TO\"] = savings_score(y_test, classifiers[model+\"-TO\"][\"c\"], cost_mat_test) "
   ]
  },
  {
   "cell_type": "markdown",
   "metadata": {
    "slideshow": {
     "slide_type": "subslide"
    }
   },
   "source": [
    "# Threshold Optimization"
   ]
  },
  {
   "cell_type": "code",
   "execution_count": 26,
   "metadata": {
    "collapsed": false,
    "scrolled": true
   },
   "outputs": [
    {
     "data": {
      "image/png": "[encoded data removed]",
      "text/plain": [
       "<matplotlib.figure.Figure at 0x7f0a93dd4da0>"
      ]
     },
     "metadata": {},
     "output_type": "display_data"
    }
   ],
   "source": [
    "fig_sav()"
   ]
  },
  {
   "cell_type": "markdown",
   "metadata": {
    "slideshow": {
     "slide_type": "subslide"
    }
   },
   "source": [
    "# Models Savings"
   ]
  },
  {
   "cell_type": "markdown",
   "metadata": {
    "slideshow": {
     "slide_type": "fragment"
    }
   },
   "source": [
    "- There are significant differences in the results when evaluating a model using a  traditional cost-insensitive measures"
   ]
  },
  {
   "cell_type": "markdown",
   "metadata": {
    "slideshow": {
     "slide_type": "fragment"
    }
   },
   "source": [
    "- Train models that take into account the different financial costs"
   ]
  },
  {
   "cell_type": "markdown",
   "metadata": {
    "slideshow": {
     "slide_type": "slide"
    }
   },
   "source": [
    "<h1 class=\"bigtitle\">Example-Dependent Cost-Sensitive Classification</h1>"
   ]
  },
  {
   "cell_type": "markdown",
   "metadata": {
    "slideshow": {
     "slide_type": "subslide"
    }
   },
   "source": [
    "## *Why \"Example-Dependent\""
   ]
  },
  {
   "cell_type": "markdown",
   "metadata": {
    "slideshow": {
     "slide_type": "fragment"
    }
   },
   "source": [
    "Cost-sensitive classification ussualy refers to class-dependent costs, where the cost dependends on the class but is assumed constant accross examples."
   ]
  },
  {
   "cell_type": "markdown",
   "metadata": {
    "slideshow": {
     "slide_type": "fragment"
    }
   },
   "source": [
    "In fraud detection, different transactions have different amounts, which implies that the costs are not constant"
   ]
  },
  {
   "cell_type": "markdown",
   "metadata": {
    "slideshow": {
     "slide_type": "subslide"
    }
   },
   "source": [
    "# Bayes Minimum Risk (BMR)"
   ]
  },
  {
   "cell_type": "markdown",
   "metadata": {
    "slideshow": {
     "slide_type": "fragment"
    }
   },
   "source": [
    "The BMR classifier is a decision model based on quantifying tradeoffs between various decisions using probabilities and the costs that accompany such decisions. "
   ]
  },
  {
   "cell_type": "markdown",
   "metadata": {
    "slideshow": {
     "slide_type": "fragment"
    }
   },
   "source": [
    "In particular:\n",
    "\n",
    "$$ R(c_i=0|\\mathbf{x}_i)=C_{TN_i}(1-\\hat p_i)+C_{FN_i} \\cdot \\hat p_i, $$\n",
    "and\n",
    "$$ R(c_i=1|\\mathbf{x}_i)=C_{TP_i} \\cdot \\hat p_i + C_{FP_i}(1- \\hat p_i), $$"
   ]
  },
  {
   "cell_type": "markdown",
   "metadata": {
    "slideshow": {
     "slide_type": "subslide"
    }
   },
   "source": [
    "# BMR Code"
   ]
  },
  {
   "cell_type": "markdown",
   "metadata": {
    "slideshow": {
     "slide_type": "fragment"
    }
   },
   "source": [
    "```\n",
    "costcla.models.BayesMinimumRiskClassifier(calibration=True)\n",
    "```"
   ]
  },
  {
   "cell_type": "markdown",
   "metadata": {
    "slideshow": {
     "slide_type": "fragment"
    }
   },
   "source": [
    "```\n",
    "fit(y_true_cal=None, y_prob_cal=None)\n",
    "```\n",
    "- Parameters\n",
    "    - **y_true_cal** : True class\n",
    "    - **y_prob_cal** : Predicted probabilities"
   ]
  },
  {
   "cell_type": "markdown",
   "metadata": {
    "slideshow": {
     "slide_type": "fragment"
    }
   },
   "source": [
    "```\n",
    "predict(y_prob,cost_mat)\n",
    "```\n",
    "- Parameters\n",
    "    - **y_prob** : Predicted probabilities\n",
    "    - **cost_mat** : Cost matrix of the classification problem. \n",
    "\n",
    "- Returns\n",
    "    - **y_pred** : Predicted class"
   ]
  },
  {
   "cell_type": "markdown",
   "metadata": {
    "slideshow": {
     "slide_type": "subslide"
    }
   },
   "source": [
    "# BMR Code"
   ]
  },
  {
   "cell_type": "code",
   "execution_count": 27,
   "metadata": {
    "collapsed": false,
    "scrolled": true,
    "slideshow": {
     "slide_type": "fragment"
    }
   },
   "outputs": [],
   "source": [
    "from costcla.models import BayesMinimumRiskClassifier\n",
    "\n",
    "for model in ci_models:\n",
    "    classifiers[model+\"-BMR\"] = {\"f\": BayesMinimumRiskClassifier()}\n",
    "    # Fit\n",
    "    classifiers[model+\"-BMR\"][\"f\"].fit(y_test, classifiers[model][\"p\"])\n",
    "    # Calibration must be made in a validation set\n",
    "    # Predict\n",
    "    classifiers[model+\"-BMR\"][\"c\"] = classifiers[model+\"-BMR\"][\"f\"].predict(classifiers[model][\"p\"], cost_mat_test)"
   ]
  },
  {
   "cell_type": "code",
   "execution_count": 28,
   "metadata": {
    "collapsed": false,
    "scrolled": true,
    "slideshow": {
     "slide_type": "fragment"
    }
   },
   "outputs": [],
   "source": [
    "for model in ci_models:\n",
    "    # Evaluate\n",
    "    results.loc[model+\"-BMR\"] = 0\n",
    "    results.loc[model+\"-BMR\", measures.keys()] = \\\n",
    "    [measures[measure](y_test, classifiers[model+\"-BMR\"][\"c\"]) for measure in measures.keys()]\n",
    "    results[\"Savings\"].loc[model+\"-BMR\"] = savings_score(y_test, classifiers[model+\"-BMR\"][\"c\"], cost_mat_test) "
   ]
  },
  {
   "cell_type": "markdown",
   "metadata": {
    "slideshow": {
     "slide_type": "subslide"
    }
   },
   "source": [
    "# BMR Results"
   ]
  },
  {
   "cell_type": "code",
   "execution_count": 29,
   "metadata": {
    "collapsed": false,
    "slideshow": {
     "slide_type": "-"
    }
   },
   "outputs": [
    {
     "data": {
      "image/png": "[encoded data removed]",
      "text/plain": [
       "<matplotlib.figure.Figure at 0x7f0a9359bcc0>"
      ]
     },
     "metadata": {},
     "output_type": "display_data"
    }
   ],
   "source": [
    "fig_sav()"
   ]
  },
  {
   "cell_type": "markdown",
   "metadata": {
    "slideshow": {
     "slide_type": "subslide"
    }
   },
   "source": [
    "# BMR Results"
   ]
  },
  {
   "cell_type": "markdown",
   "metadata": {},
   "source": [
    "Why so important focusing on the Recall"
   ]
  },
  {
   "cell_type": "markdown",
   "metadata": {
    "slideshow": {
     "slide_type": "fragment"
    }
   },
   "source": [
    "* Average cost of a False Negative"
   ]
  },
  {
   "cell_type": "code",
   "execution_count": 30,
   "metadata": {
    "collapsed": false,
    "scrolled": true,
    "slideshow": {
     "slide_type": "-"
    }
   },
   "outputs": [
    {
     "name": "stdout",
     "output_type": "stream",
     "text": [
      "2231.760665914221\n"
     ]
    }
   ],
   "source": [
    "print(data.data[data.target == 1, 2].mean())"
   ]
  },
  {
   "cell_type": "markdown",
   "metadata": {
    "slideshow": {
     "slide_type": "fragment"
    }
   },
   "source": [
    "* Average cost of a False Positive"
   ]
  },
  {
   "cell_type": "code",
   "execution_count": 31,
   "metadata": {
    "collapsed": false
   },
   "outputs": [
    {
     "name": "stdout",
     "output_type": "stream",
     "text": [
      "10.0\n"
     ]
    }
   ],
   "source": [
    "print(data.cost_mat[:,0].mean())"
   ]
  },
  {
   "cell_type": "markdown",
   "metadata": {
    "slideshow": {
     "slide_type": "subslide"
    }
   },
   "source": [
    "# BMR Results\n",
    "\n",
    "- Bayes Minimum Risk increases the savings by using a cost-insensitive method and then introducing the costs\n",
    "- Why not introduce the costs during the estimation of the methods?"
   ]
  },
  {
   "cell_type": "markdown",
   "metadata": {
    "slideshow": {
     "slide_type": "subslide"
    }
   },
   "source": [
    "## Cost-Sensitive Decision Trees (CSDT)\n",
    "\n",
    "A a new cost-based impurity measure taking into account the costs when all the examples in a leaf\n",
    "\n",
    "```\n",
    "costcla.models.CostSensitiveDecisionTreeClassifier(criterion='direct_cost', criterion_weight=False, pruned=True)\n",
    "```"
   ]
  },
  {
   "cell_type": "markdown",
   "metadata": {
    "slideshow": {
     "slide_type": "fragment"
    }
   },
   "source": [
    "## Cost-Sensitive Random Forest (CSRF)\n",
    "\n",
    "Ensemble of CSDT\n",
    "\n",
    "```\n",
    "costcla.models.CostSensitiveRandomForestClassifier(n_estimators=10, max_samples=0.5, max_features=0.5,combination='majority_voting)```"
   ]
  },
  {
   "cell_type": "markdown",
   "metadata": {
    "slideshow": {
     "slide_type": "subslide"
    }
   },
   "source": [
    "# CSDT & CSRF Code"
   ]
  },
  {
   "cell_type": "code",
   "execution_count": 33,
   "metadata": {
    "collapsed": false,
    "slideshow": {
     "slide_type": "fragment"
    }
   },
   "outputs": [],
   "source": [
    "from costcla.models import CostSensitiveDecisionTreeClassifier\n",
    "from costcla.models import CostSensitiveRandomForestClassifier\n",
    "\n",
    "\n",
    "classifiers = {\"CSDT\": {\"f\": CostSensitiveDecisionTreeClassifier()},\n",
    "               \"CSRF\": {\"f\": CostSensitiveRandomForestClassifier(combination='majority_bmr')}}\n",
    "\n",
    "# Fit the classifiers using the training dataset\n",
    "for model in classifiers.keys():\n",
    "    classifiers[model][\"f\"].fit(X_train, y_train, cost_mat_train)\n",
    "    if model == \"CSRF\":\n",
    "        classifiers[model][\"c\"] = classifiers[model][\"f\"].predict(X_test, cost_mat_test)\n",
    "    else:\n",
    "        classifiers[model][\"c\"] = classifiers[model][\"f\"].predict(X_test)"
   ]
  },
  {
   "cell_type": "code",
   "execution_count": 34,
   "metadata": {
    "collapsed": true,
    "slideshow": {
     "slide_type": "skip"
    }
   },
   "outputs": [],
   "source": [
    "for model in ['CSDT', 'CSRF']:\n",
    "    # Evaluate\n",
    "    results.loc[model] = 0\n",
    "    results.loc[model, measures.keys()] = \\\n",
    "    [measures[measure](y_test, classifiers[model][\"c\"]) for measure in measures.keys()]\n",
    "    results[\"Savings\"].loc[model] = savings_score(y_test, classifiers[model][\"c\"], cost_mat_test)"
   ]
  },
  {
   "cell_type": "markdown",
   "metadata": {
    "slideshow": {
     "slide_type": "subslide"
    }
   },
   "source": [
    "# CSDT & CSRF Results"
   ]
  },
  {
   "cell_type": "code",
   "execution_count": 35,
   "metadata": {
    "collapsed": false,
    "slideshow": {
     "slide_type": "-"
    }
   },
   "outputs": [
    {
     "data": {
      "image/png": "[encoded data removed]",
      "text/plain": [
       "<matplotlib.figure.Figure at 0x7f0a93483e80>"
      ]
     },
     "metadata": {},
     "output_type": "display_data"
    }
   ],
   "source": [
    "fig_sav()"
   ]
  },
  {
   "cell_type": "markdown",
   "metadata": {
    "slideshow": {
     "slide_type": "subslide"
    }
   },
   "source": [
    "# Lessons Learned (so far ...)"
   ]
  },
  {
   "cell_type": "markdown",
   "metadata": {
    "slideshow": {
     "slide_type": "fragment"
    }
   },
   "source": [
    "- Selecting models based on traditional statistics does not give the best results in terms of cost"
   ]
  },
  {
   "cell_type": "markdown",
   "metadata": {
    "slideshow": {
     "slide_type": "fragment"
    }
   },
   "source": [
    "- Models should be evaluated taking into account real financial costs of the application"
   ]
  },
  {
   "cell_type": "markdown",
   "metadata": {
    "slideshow": {
     "slide_type": "fragment"
    }
   },
   "source": [
    "- Algorithms should be developed to incorporate those financial costs"
   ]
  },
  {
   "cell_type": "markdown",
   "metadata": {
    "slideshow": {
     "slide_type": "slide"
    }
   },
   "source": [
    "<center>\n",
    "<img src=\"https://raw.githubusercontent.com/albahnsen/CostSensitiveClassification/master/logo.png\" style=\"width: 600px;\" align=\"middle\">\n",
    "</center>\n"
   ]
  },
  {
   "cell_type": "markdown",
   "metadata": {
    "slideshow": {
     "slide_type": "subslide"
    }
   },
   "source": [
    "# CostCla Library\n",
    "\n",
    "- **CostCla** is a Python open source cost-sensitive classification library built on top of Scikit-learn, Pandas and Numpy. \n",
    "\n",
    "- Source code, binaries and documentation are distributed under 3-Clause BSD license in the website http://albahnsen.com/CostSensitiveClassification/"
   ]
  },
  {
   "cell_type": "markdown",
   "metadata": {
    "slideshow": {
     "slide_type": "subslide"
    }
   },
   "source": [
    "# CostCla Algorithms\n",
    "\n",
    "- Cost-proportionate over-sampling <a href=\"http://citeseerx.ist.psu.edu/viewdoc/summary?doi=10.1.1.29.514\" target=\"_blank\">[Elkan, 2001]</a> \n",
    "\n",
    "- SMOTE <a href=\"http://arxiv.org/abs/1106.1813\" target=\"_blank\">[Chawla et al., 2002]</a> \n",
    "\n",
    "- Cost-proportionate rejection-sampling <a href=\"http://ieeexplore.ieee.org/lpdocs/epic03/wrapper.htm?arnumber=1250950\" target=\"_blank\">[Zadrozny et al., 2003]</a>\n",
    "\n",
    "- Thresholding optimization <a href=\"http://www.aaai.org/Papers/AAAI/2006/AAAI06-076.pdf\" target=\"_blank\">[Sheng and Ling, 2006]</a> \n",
    "\n",
    "- Bayes minimum risk <a href=\"http://albahnsen.com/files/%20Improving%20Credit%20Card%20Fraud%20Detection%20by%20using%20Calibrated%20Probabilities%20-%20Publish.pdf\" target=\"_blank\">[Correa Bahnsen et al., 2014a]</a>  \n",
    "\n",
    "- Cost-sensitive logistic regression <a href=\"http://albahnsen.com/files/Example-Dependent%20Cost-Sensitive%20Logistic%20Regression%20for%20Credit%20Scoring_publish.pdf\" target=\"_blank\">[Correa Bahnsen et al., 2014b]</a>  \n",
    "\n",
    "- Cost-sensitive decision trees <a href=\"http://albahnsen.com/files/Example-Dependent%20Cost-Sensitive%20Decision%20Trees.pdf\" target=\"_blank\">[Correa Bahnsen et al., 2015a]</a>  \n",
    "\n",
    "- Cost-sensitive ensemble methods: cost-sensitive bagging, cost-sensitive pasting, cost-sensitive random forest and cost-sensitive random patches <a href=\"http://arxiv.org/abs/1505.04637\" target=\"_blank\">[Correa Bahnsen et al., 2015c]</a>"
   ]
  },
  {
   "cell_type": "markdown",
   "metadata": {
    "slideshow": {
     "slide_type": "subslide"
    }
   },
   "source": [
    "# CostCla Databases\n",
    "\n",
    "- Credit Scoring1 - Kaggle credit competition <a href=\"https://www.kaggle.com/c/GiveMeSomeCredit\" target=\"_blank\">[Data]</a>, cost matrix: <a href=\"http://albahnsen.com/files/Example-Dependent%20Cost-Sensitive%20Logistic%20Regression%20for%20Credit%20Scoring_publish.pdf\" target=\"_blank\">[Correa Bahnsen et al., 2014]</a>  \n",
    "\n",
    "- Credit Scoring 2 - PAKDD2009 Credit <a href=\"http://sede.neurotech.com.br/PAKDD2009/\" target=\"_blank\">[Data]</a>, cost matrix: <a href=\"http://albahnsen.com/files/Example-Dependent%20Cost-Sensitive%20Logistic%20Regression%20for%20Credit%20Scoring_publish.pdf\" target=\"_blank\">[Correa Bahnsen et al., 2014a]</a>  \n",
    "\n",
    "- Direct Marketing - PAKDD2009 Credit <a href=\"https://archive.ics.uci.edu/ml/datasets/Bank+Marketing\" target=\"_blank\">[Data]</a>, cost matrix: <a href=\"http://albahnsen.com/files/%20Improving%20Credit%20Card%20Fraud%20Detection%20by%20using%20Calibrated%20Probabilities%20-%20Publish.pdf\" target=\"_blank\">[Correa Bahnsen et al., 2014b]</a>  \n",
    "\n",
    "- Churn Modeling, soon \n",
    "\n",
    "- Fraud Detection, soon"
   ]
  },
  {
   "cell_type": "markdown",
   "metadata": {
    "slideshow": {
     "slide_type": "subslide"
    }
   },
   "source": [
    "# Future Work\n",
    "\n",
    "- CSDT in Cython\n",
    "- Cost-sensitive class-dependent algorithms\n",
    "- Sampling algorithms\n",
    "- Probability calibration (Only ROCCH)\n",
    "- Other algorithms\n",
    "- More databases"
   ]
  },
  {
   "cell_type": "markdown",
   "metadata": {
    "slideshow": {
     "slide_type": "slide"
    }
   },
   "source": [
    "You find the presentation and the IPython Notebook here:\n",
    "    \n",
    "* <a href=\"http://nbviewer.ipython.org/format/slides/github/albahnsen/CostSensitiveClassification/blob/master/doc/tutorials/slides_edcs_fraud_detection.ipynb#/\" target=\"_blank\">http://nbviewer.ipython.org/format/slides/github/\n",
    "albahnsen/CostSensitiveClassification/blob/\n",
    "master/doc/tutorials/slides_edcs_fraud_detection.ipynb#/</a>\n",
    "* <a href=\"https://github.com/albahnsen/CostSensitiveClassification/blob/master/doc/tutorials/slides_edcs_fraud_detection.ipynb\" target=\"_blank\">https://github.com/albahnsen/CostSensitiveClassification/ blob/master/doc/tutorials/slides_edcs_fraud_detection.ipynb</a>\n"
   ]
  },
  {
   "cell_type": "markdown",
   "metadata": {
    "slideshow": {
     "slide_type": "slide"
    }
   },
   "source": [
    "<h1 class=\"bigtitle\">Thanks!</h1>\n",
    "<center>\n",
    "<table style=\"border-collapse: collapse; border-top-color: rgb(255, 255, 255); border-right-color: rgb(255, 255, 255); border-bottom-color: rgb(255, 255, 255); border-left-color: rgb(255, 255, 255); border-top-width: 1px; border-right-width: 1px; border-bottom-width: 1px; border-left-width: 1px; \" border=\"0\" bordercolor=\"#888\" cellspacing=\"0\" align=\"left\">\n",
    "  <tr>\n",
    "    <td>\n",
    "<a href=\"mailto: al.bahnsen@gmail.com\"><svg width=\"40px\" height=\"40px\" viewBox=\"0 0 60 60\" version=\"1.1\" xmlns=\"http://www.w3.org/2000/svg\" xmlns:xlink=\"http://www.w3.org/1999/xlink\" xmlns:sketch=\"http://www.bohemiancoding.com/sketch/ns\">\n",
    "    <path d=\"M0.224580688,30 C0.224580688,13.4314567 13.454941,0 29.7754193,0 C46.0958976,0 59.3262579,13.4314567 59.3262579,30 C59.3262579,46.5685433 46.0958976,60 29.7754193,60 C13.454941,60 0.224580688,46.5685433 0.224580688,30 Z M0.224580688,30\" fill=\"#FFFFFF\" sketch:type=\"MSShapeGroup\"></path>\n",
    "    <path d=\"M35.0384324,31.6384006 L47.2131148,40.5764264 L47.2131148,20 L35.0384324,31.6384006 Z M13.7704918,20 L13.7704918,40.5764264 L25.9449129,31.6371491 L13.7704918,20 Z M30.4918033,35.9844891 L27.5851037,33.2065217 L13.7704918,42 L47.2131148,42 L33.3981762,33.2065217 L30.4918033,35.9844891 Z M46.2098361,20 L14.7737705,20 L30.4918033,32.4549304 L46.2098361,20 Z M46.2098361,20\" id=\"Shape\" fill=\"#333333\" sketch:type=\"MSShapeGroup\"></path>\n",
    "    <path d=\"M59.3262579,30 C59.3262579,46.5685433 46.0958976,60 29.7754193,60 C23.7225405,60 18.0947051,58.1525134 13.4093244,54.9827754 L47.2695458,5.81941103 C54.5814438,11.2806503 59.3262579,20.0777973 59.3262579,30 Z M59.3262579,30\" id=\"reflec\" fill-opacity=\"0.08\" fill=\"#000000\" sketch:type=\"MSShapeGroup\"></path>\n",
    "</svg></a> \n",
    "</td> \n",
    "<td>\n",
    "<a href=\"mailto: al.bahnsen@gmail.com\" target=\"_blank\">al.bahnsen@gmail.com</a>  \n",
    "</td> </tr><tr> <td>\n",
    "                 \n",
    "<a href=\"http://github.com/albahnsen\"><svg width=\"40px\" height=\"40px\" viewBox=\"0 0 60 60\" version=\"1.1\" xmlns=\"http://www.w3.org/2000/svg\" xmlns:xlink=\"http://www.w3.org/1999/xlink\" xmlns:sketch=\"http://www.bohemiancoding.com/sketch/ns\">\n",
    "    <path d=\"M0.336871032,30 C0.336871032,13.4314567 13.5672313,0 29.8877097,0 C46.208188,0 59.4385483,13.4314567 59.4385483,30 C59.4385483,46.5685433 46.208188,60 29.8877097,60 C13.5672313,60 0.336871032,46.5685433 0.336871032,30 Z M0.336871032,30\" id=\"Github\" fill=\"#333333\" sketch:type=\"MSShapeGroup\"></path>\n",
    "    <path d=\"M18.2184245,31.9355566 C19.6068506,34.4507902 22.2845295,36.0156764 26.8007287,36.4485173 C26.1561023,36.9365335 25.3817877,37.8630984 25.2749857,38.9342607 C24.4644348,39.4574749 22.8347506,39.62966 21.5674303,39.2310659 C19.7918469,38.6717023 19.1119377,35.1642642 16.4533306,35.6636959 C15.8773626,35.772144 15.9917933,36.1507609 16.489567,36.4722998 C17.3001179,36.9955141 18.0629894,37.6500075 18.6513541,39.04366 C19.1033554,40.113871 20.0531304,42.0259813 23.0569369,42.0259813 C24.2489236,42.0259813 25.0842679,41.8832865 25.0842679,41.8832865 C25.0842679,41.8832865 25.107154,44.6144649 25.107154,45.6761142 C25.107154,46.9004355 23.4507693,47.2457569 23.4507693,47.8346108 C23.4507693,48.067679 23.9990832,48.0895588 24.4396415,48.0895588 C25.3102685,48.0895588 27.1220883,47.3646693 27.1220883,46.0918317 C27.1220883,45.0806012 27.1382993,41.6806599 27.1382993,41.0860982 C27.1382993,39.785673 27.8372803,39.3737607 27.8372803,39.3737607 C27.8372803,39.3737607 27.924057,46.3153869 27.6704022,47.2457569 C27.3728823,48.3397504 26.8360115,48.1846887 26.8360115,48.6727049 C26.8360115,49.3985458 29.0168704,48.8505978 29.7396911,47.2571725 C30.2984945,46.0166791 30.0543756,39.2072834 30.0543756,39.2072834 L30.650369,39.1949165 C30.650369,39.1949165 30.6837446,42.3123222 30.6637192,43.7373675 C30.6427402,45.2128317 30.5426134,47.0792797 31.4208692,47.9592309 C31.9977907,48.5376205 33.868733,49.5526562 33.868733,48.62514 C33.868733,48.0857536 32.8436245,47.6424485 32.8436245,46.1831564 L32.8436245,39.4688905 C33.6618042,39.4688905 33.5387911,41.6768547 33.5387911,41.6768547 L33.5988673,45.7788544 C33.5988673,45.7788544 33.4186389,47.2733446 35.2190156,47.8992991 C35.8541061,48.1209517 37.2139245,48.1808835 37.277815,47.8089257 C37.3417055,47.4360167 35.6405021,46.8814096 35.6252446,45.7236791 C35.6157088,45.0178155 35.6567131,44.6059032 35.6567131,41.5379651 C35.6567131,38.470027 35.2438089,37.336079 33.8048426,36.4323453 C38.2457082,35.9766732 40.9939527,34.880682 42.3337458,31.9450695 C42.4383619,31.9484966 42.8791491,30.5737742 42.8219835,30.5742482 C43.1223642,29.4659853 43.2844744,28.1550957 43.3168964,26.6025764 C43.3092677,22.3930799 41.2895654,20.9042975 40.9014546,20.205093 C41.4736082,17.0182425 40.8060956,15.5675121 40.4961791,15.0699829 C39.3518719,14.6637784 36.5149435,16.1145088 34.9653608,17.1371548 C32.438349,16.3998984 27.0982486,16.4712458 25.0957109,17.3274146 C21.4005522,14.6875608 19.445694,15.0918628 19.445694,15.0918628 C19.445694,15.0918628 18.1821881,17.351197 19.1119377,20.6569598 C17.8961113,22.2028201 16.9902014,23.2968136 16.9902014,26.1963718 C16.9902014,27.8297516 17.1828264,29.2918976 17.6176632,30.5685404 C17.5643577,30.5684093 18.2008493,31.9359777 18.2184245,31.9355566 Z M18.2184245,31.9355566\" id=\"Path\" fill=\"#FFFFFF\" sketch:type=\"MSShapeGroup\"></path>\n",
    "    <path d=\"M59.4385483,30 C59.4385483,46.5685433 46.208188,60 29.8877097,60 C23.8348308,60 18.2069954,58.1525134 13.5216148,54.9827754 L47.3818361,5.81941103 C54.6937341,11.2806503 59.4385483,20.0777973 59.4385483,30 Z M59.4385483,30\" id=\"reflec\" fill-opacity=\"0.08\" fill=\"#000000\" sketch:type=\"MSShapeGroup\"></path>\n",
    "</svg></a>\n",
    "\n",
    "</td><td>\n",
    "<a href=\"http://github.com/albahnsen\" target=\"_blank\">http://github.com/albahnsen</a>  \n",
    "\n",
    "</td> </tr><tr> <td>\n",
    "\n",
    "<a href=\"http://linkedin.com/in/albahnsen\"><svg width=\"40px\" height=\"40px\" viewBox=\"0 0 60 60\" version=\"1.1\" xmlns=\"http://www.w3.org/2000/svg\" xmlns:xlink=\"http://www.w3.org/1999/xlink\" xmlns:sketch=\"http://www.bohemiancoding.com/sketch/ns\">\n",
    "    <path d=\"M0.449161376,30 C0.449161376,13.4314567 13.6795217,0 30,0 C46.3204783,0 59.5508386,13.4314567 59.5508386,30 C59.5508386,46.5685433 46.3204783,60 30,60 C13.6795217,60 0.449161376,46.5685433 0.449161376,30 Z M0.449161376,30\" fill=\"#007BB6\" sketch:type=\"MSShapeGroup\"></path>\n",
    "    <path d=\"M22.4680392,23.7098144 L15.7808366,23.7098144 L15.7808366,44.1369537 L22.4680392,44.1369537 L22.4680392,23.7098144 Z M22.4680392,23.7098144\" id=\"Path\" fill=\"#FFFFFF\" sketch:type=\"MSShapeGroup\"></path>\n",
    "    <path d=\"M22.9084753,17.3908761 C22.8650727,15.3880081 21.4562917,13.862504 19.1686418,13.862504 C16.8809918,13.862504 15.3854057,15.3880081 15.3854057,17.3908761 C15.3854057,19.3522579 16.836788,20.9216886 19.0818366,20.9216886 L19.1245714,20.9216886 C21.4562917,20.9216886 22.9084753,19.3522579 22.9084753,17.3908761 Z M22.9084753,17.3908761\" id=\"Path\" fill=\"#FFFFFF\" sketch:type=\"MSShapeGroup\"></path>\n",
    "    <path d=\"M46.5846502,32.4246563 C46.5846502,26.1503226 43.2856534,23.2301456 38.8851658,23.2301456 C35.3347011,23.2301456 33.7450983,25.2128128 32.8575489,26.6036896 L32.8575489,23.7103567 L26.1695449,23.7103567 C26.2576856,25.6271338 26.1695449,44.137496 26.1695449,44.137496 L32.8575489,44.137496 L32.8575489,32.7292961 C32.8575489,32.1187963 32.9009514,31.5097877 33.0777669,31.0726898 C33.5610713,29.8530458 34.6614937,28.5902885 36.5089747,28.5902885 C38.9297703,28.5902885 39.8974476,30.4634101 39.8974476,33.2084226 L39.8974476,44.1369537 L46.5843832,44.1369537 L46.5846502,32.4246563 Z M46.5846502,32.4246563\" id=\"Path\" fill=\"#FFFFFF\" sketch:type=\"MSShapeGroup\"></path>\n",
    "    <path d=\"M59.5508386,30 C59.5508386,46.5685433 46.3204783,60 30,60 C23.9471212,60 18.3192858,58.1525134 13.6339051,54.9827754 L47.4941264,5.81941103 C54.8060245,11.2806503 59.5508386,20.0777973 59.5508386,30 Z M59.5508386,30\" id=\"reflec\" fill-opacity=\"0.08\" fill=\"#000000\" sketch:type=\"MSShapeGroup\"></path>\n",
    "</svg></a> \n",
    "</td> <td>\n",
    "<a href=\"http://linkedin.com/in/albahnsen\" target=\"_blank\">http://linkedin.com/in/albahnsen</a>  \n",
    "\n",
    "</td> </tr><tr> <td>\n",
    "\n",
    "<a href=\"http://twitter.com/albahnsen\"><svg width=\"40px\" height=\"40px\" viewBox=\"0 0 60 60\" version=\"1.1\" xmlns=\"http://www.w3.org/2000/svg\" xmlns:xlink=\"http://www.w3.org/1999/xlink\" xmlns:sketch=\"http://www.bohemiancoding.com/sketch/ns\">\n",
    "    <path d=\"M0,30 C0,13.4314567 13.4508663,0 30.0433526,0 C46.6358389,0 60.0867052,13.4314567 60.0867052,30 C60.0867052,46.5685433 46.6358389,60 30.0433526,60 C13.4508663,60 0,46.5685433 0,30 Z M0,30\" fill=\"#4099FF\" sketch:type=\"MSShapeGroup\"></path>\n",
    "    <path d=\"M29.2997675,23.8879776 L29.3627206,24.9260453 L28.3135016,24.798935 C24.4943445,24.3116787 21.1578281,22.6592444 18.3249368,19.8840023 L16.9399677,18.5069737 L16.5832333,19.5238563 C15.8277956,21.7906572 16.3104363,24.1845684 17.8842648,25.7946325 C18.72364,26.6844048 18.5347806,26.8115152 17.0868584,26.2818888 C16.5832333,26.1124083 16.1425613,25.985298 16.1005925,26.0488532 C15.9537019,26.1971486 16.457327,28.1249885 16.8560302,28.8876505 C17.4016241,29.9469033 18.5137962,30.9849709 19.7308902,31.5993375 L20.7591248,32.0865938 L19.5420308,32.1077788 C18.3669055,32.1077788 18.3249368,32.1289639 18.4508431,32.57385 C18.8705307,33.9508786 20.5282967,35.4126474 22.3749221,36.048199 L23.6759536,36.4930852 L22.5427971,37.1710069 C20.8640467,38.1455194 18.891515,38.6963309 16.9189833,38.738701 C15.9746862,38.759886 15.1982642,38.8446262 15.1982642,38.9081814 C15.1982642,39.1200319 17.7583585,40.306395 19.2482495,40.7724662 C23.7179224,42.1494948 29.0269705,41.5563132 33.0140027,39.2047722 C35.846894,37.5311528 38.6797853,34.2050993 40.0018012,30.9849709 C40.7152701,29.2689815 41.428739,26.1335934 41.428739,24.6294545 C41.428739,23.654942 41.4916922,23.5278317 42.6668174,22.3626537 C43.359302,21.6847319 44.0098178,20.943255 44.135724,20.7314044 C44.3455678,20.3288884 44.3245835,20.3288884 43.2543801,20.6890343 C41.4707078,21.324586 41.2188952,21.2398458 42.1002392,20.2865183 C42.750755,19.6085965 43.527177,18.3798634 43.527177,18.0197174 C43.527177,17.9561623 43.2124113,18.0620876 42.8556769,18.252753 C42.477958,18.4646036 41.6385828,18.7823794 41.0090514,18.9730449 L39.8758949,19.3331908 L38.8476603,18.634084 C38.281082,18.252753 37.4836756,17.829052 37.063988,17.7019416 C35.9937846,17.4053509 34.357003,17.447721 33.3917215,17.7866818 C30.768674,18.7400093 29.110908,21.1974757 29.2997675,23.8879776 Z M29.2997675,23.8879776\" id=\"Path\" fill=\"#FFFFFF\" sketch:type=\"MSShapeGroup\"></path>\n",
    "    <path d=\"M60.0867052,30 C60.0867052,46.5685433 46.6358389,60 30.0433526,60 C23.8895925,60 18.1679598,58.1525134 13.4044895,54.9827754 L47.8290478,5.81941103 C55.2628108,11.2806503 60.0867052,20.0777973 60.0867052,30 Z M60.0867052,30\" id=\"reflec\" fill-opacity=\"0.08\" fill=\"#000000\" sketch:type=\"MSShapeGroup\"></path>\n",
    "</svg></a>\n",
    "</td> <td>\n",
    "<a href=\"http://twitter.com/albahnsen\" target=\"_blank\">@albahnsen</a>  \n",
    "\n",
    "</td> </tr>\n",
    "</table>\n",
    "</center>"
   ]
  },
  {
   "cell_type": "code",
   "execution_count": 36,
   "metadata": {
    "collapsed": false,
    "slideshow": {
     "slide_type": "skip"
    }
   },
   "outputs": [
    {
     "data": {
      "text/html": [
       "\n",
       "\n",
       "<style>\n",
       "\n",
       ".rendered_html {\n",
       "    font-family: \"proxima-nova\", helvetica;\n",
       "    font-size: 100%;\n",
       "    line-height: 1.3;\n",
       "}\n",
       "\n",
       ".rendered_html h1 {\n",
       "    margin: 0.25em 0em 0.5em;\n",
       "    color: #015C9C;\n",
       "    text-align: center;\n",
       "    line-height: 1.2; \n",
       "    page-break-before: always;\n",
       "}\n",
       "\n",
       ".rendered_html h2 {\n",
       "    margin: 1.1em 0em 0.5em;\n",
       "    color: #26465D;\n",
       "    line-height: 1.2;\n",
       "}\n",
       "\n",
       ".rendered_html h3 {\n",
       "    margin: 1.1em 0em 0.5em;\n",
       "    color: #002845;\n",
       "    line-height: 1.2;\n",
       "}\n",
       "\n",
       ".rendered_html li {\n",
       "    line-height: 1.5; \n",
       "}\n",
       "\n",
       ".prompt {\n",
       "    font-size: 120%; \n",
       "}\n",
       "\n",
       ".CodeMirror-lines {\n",
       "    font-size: 120%; \n",
       "}\n",
       "\n",
       ".output_area {\n",
       "    font-size: 120%; \n",
       "}\n",
       "\n",
       "#notebook {\n",
       "    background-image: url('files/images/witewall_3.png');\n",
       "}\n",
       "\n",
       "h1.bigtitle {\n",
       "    margin: 4cm 1cm 4cm 1cm;\n",
       "    font-size: 300%;\n",
       "}\n",
       "\n",
       "h3.point {\n",
       "    font-size: 200%;\n",
       "    text-align: center;\n",
       "    margin: 2em 0em 2em 0em;\n",
       "    #26465D\n",
       "}\n",
       "\n",
       ".logo {\n",
       "    margin: 20px 0 20px 0;\n",
       "}\n",
       "\n",
       "a.anchor-link {\n",
       "    display: none;\n",
       "}\n",
       "\n",
       "h1.title { \n",
       "    font-size: 250%;\n",
       "}\n",
       "\n",
       "</style>\n"
      ],
      "text/plain": [
       "<IPython.core.display.HTML object>"
      ]
     },
     "metadata": {},
     "output_type": "display_data"
    }
   ],
   "source": [
    "#Format from https://github.com/ellisonbg/talk-2013-scipy\n",
    "from IPython.display import display, HTML\n",
    "s = \"\"\"\n",
    "\n",
    "<style>\n",
    "\n",
    ".rendered_html {\n",
    "    font-family: \"proxima-nova\", helvetica;\n",
    "    font-size: 100%;\n",
    "    line-height: 1.3;\n",
    "}\n",
    "\n",
    ".rendered_html h1 {\n",
    "    margin: 0.25em 0em 0.5em;\n",
    "    color: #015C9C;\n",
    "    text-align: center;\n",
    "    line-height: 1.2; \n",
    "    page-break-before: always;\n",
    "}\n",
    "\n",
    ".rendered_html h2 {\n",
    "    margin: 1.1em 0em 0.5em;\n",
    "    color: #26465D;\n",
    "    line-height: 1.2;\n",
    "}\n",
    "\n",
    ".rendered_html h3 {\n",
    "    margin: 1.1em 0em 0.5em;\n",
    "    color: #002845;\n",
    "    line-height: 1.2;\n",
    "}\n",
    "\n",
    ".rendered_html li {\n",
    "    line-height: 1.5; \n",
    "}\n",
    "\n",
    ".prompt {\n",
    "    font-size: 120%; \n",
    "}\n",
    "\n",
    ".CodeMirror-lines {\n",
    "    font-size: 120%; \n",
    "}\n",
    "\n",
    ".output_area {\n",
    "    font-size: 120%; \n",
    "}\n",
    "\n",
    "#notebook {\n",
    "    background-image: url('files/images/witewall_3.png');\n",
    "}\n",
    "\n",
    "h1.bigtitle {\n",
    "    margin: 4cm 1cm 4cm 1cm;\n",
    "    font-size: 300%;\n",
    "}\n",
    "\n",
    "h3.point {\n",
    "    font-size: 200%;\n",
    "    text-align: center;\n",
    "    margin: 2em 0em 2em 0em;\n",
    "    #26465D\n",
    "}\n",
    "\n",
    ".logo {\n",
    "    margin: 20px 0 20px 0;\n",
    "}\n",
    "\n",
    "a.anchor-link {\n",
    "    display: none;\n",
    "}\n",
    "\n",
    "h1.title { \n",
    "    font-size: 250%;\n",
    "}\n",
    "\n",
    "</style>\n",
    "\"\"\"\n",
    "display(HTML(s))"
   ]
  }
 ],
 "metadata": {
  "celltoolbar": "Slideshow",
  "kernelspec": {
   "display_name": "Python 3",
   "language": "python",
   "name": "python3"
  },
  "language_info": {
   "codemirror_mode": {
    "name": "ipython",
    "version": 3
   },
   "file_extension": ".py",
   "mimetype": "text/x-python",
   "name": "python",
   "nbconvert_exporter": "python",
   "pygments_lexer": "ipython3",
   "version": "3.5.1"
  }
 },
 "nbformat": 4,
 "nbformat_minor": 0
}
